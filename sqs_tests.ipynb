{
 "cells": [
  {
   "cell_type": "code",
   "execution_count": 1,
   "metadata": {},
   "outputs": [],
   "source": [
    "# SQS Tests\n",
    "import sys\n",
    "import logging\n",
    "logging.basicConfig(\n",
    "                    stream=sys.stdout,\n",
    "                    level=logging.INFO,\n",
    "                    format=\"%(asctime)s %(message)s\")\n"
   ]
  },
  {
   "cell_type": "code",
   "execution_count": 2,
   "metadata": {},
   "outputs": [],
   "source": [
    "from services.sqs_service import SqsService\n",
    "\n",
    "# Create an instance of SQS Service\n",
    "sqs_service = SqsService()\n",
    "queue_name = \"pujan-queue-3\""
   ]
  },
  {
   "cell_type": "code",
   "execution_count": 3,
   "metadata": {},
   "outputs": [
    {
     "data": {
      "text/plain": [
       "[]"
      ]
     },
     "execution_count": 3,
     "metadata": {},
     "output_type": "execute_result"
    }
   ],
   "source": [
    "# list queues\n",
    "sqs_service.list_queues()"
   ]
  },
  {
   "cell_type": "code",
   "execution_count": 4,
   "metadata": {},
   "outputs": [
    {
     "name": "stdout",
     "output_type": "stream",
     "text": [
      "2024-11-14 21:06:54,535 create_queue queue_name:pujan-queue-3\n"
     ]
    },
    {
     "data": {
      "text/plain": [
       "'https://sqs.ap-southeast-2.amazonaws.com/911167932496/pujan-queue-3'"
      ]
     },
     "execution_count": 4,
     "metadata": {},
     "output_type": "execute_result"
    }
   ],
   "source": [
    "# create queue\n",
    "sqs_service.create_queue(queue_name)"
   ]
  },
  {
   "cell_type": "code",
   "execution_count": 5,
   "metadata": {},
   "outputs": [
    {
     "name": "stdout",
     "output_type": "stream",
     "text": [
      "2024-11-14 21:06:54,689 get_queue_url queue_name:pujan-queue-3\n"
     ]
    },
    {
     "data": {
      "text/plain": [
       "'https://sqs.ap-southeast-2.amazonaws.com/911167932496/pujan-queue-3'"
      ]
     },
     "execution_count": 5,
     "metadata": {},
     "output_type": "execute_result"
    }
   ],
   "source": [
    "# Get the queue url, this queue url is used on following methods\n",
    "queue_url = sqs_service.get_queue_url(queue_name)\n",
    "queue_url"
   ]
  },
  {
   "cell_type": "code",
   "execution_count": 6,
   "metadata": {},
   "outputs": [
    {
     "name": "stdout",
     "output_type": "stream",
     "text": [
      "2024-11-14 21:06:54,755 send_message queue_url: https://sqs.ap-southeast-2.amazonaws.com/911167932496/pujan-queue-3, message: {\"username\": \"pujan\", \"email\": \"some@email.com\"}\n"
     ]
    },
    {
     "data": {
      "text/plain": [
       "{'MD5OfMessageBody': 'f65a5ba8e35eeab89ac5e602b3828fc5',\n",
       " 'MessageId': '15d45c34-d74a-4717-b01c-0a28616c149b',\n",
       " 'ResponseMetadata': {'RequestId': '086f79d9-4349-5f00-b889-2676964f832a',\n",
       "  'HTTPStatusCode': 200,\n",
       "  'HTTPHeaders': {'x-amzn-requestid': '086f79d9-4349-5f00-b889-2676964f832a',\n",
       "   'date': 'Thu, 14 Nov 2024 10:36:54 GMT',\n",
       "   'content-type': 'application/x-amz-json-1.0',\n",
       "   'content-length': '106',\n",
       "   'connection': 'keep-alive'},\n",
       "  'RetryAttempts': 0}}"
      ]
     },
     "execution_count": 6,
     "metadata": {},
     "output_type": "execute_result"
    }
   ],
   "source": [
    "# Send message\n",
    "import json\n",
    "msg = {\n",
    "    \"username\": \"pujan\",\n",
    "    \"email\": \"some@email.com\" \n",
    "}\n",
    "\n",
    "msg_json = json.dumps(msg)\n",
    "\n",
    "sqs_service.send_message(queue_url, msg_json)"
   ]
  },
  {
   "cell_type": "code",
   "execution_count": 7,
   "metadata": {},
   "outputs": [
    {
     "name": "stdout",
     "output_type": "stream",
     "text": [
      "2024-11-14 21:06:54,887 receive_message queue_url: https://sqs.ap-southeast-2.amazonaws.com/911167932496/pujan-queue-3\n"
     ]
    },
    {
     "data": {
      "text/plain": [
       "[SqsMessageDto(message_id='15d45c34-d74a-4717-b01c-0a28616c149b', body='{\"username\": \"pujan\", \"email\": \"some@email.com\"}', body_md5='f65a5ba8e35eeab89ac5e602b3828fc5', receipt_handle='AQEBzwgaQr7n+LaJ1TH3zU4eVpYHBEpIQ3QcjhvJFaM/rWVDx8n7PyJ1/LdAIvJZlv72/9YysblwtMGgJCoE10wPDl0vLtzMmMnksFH5Q4kQWE5bBtvOF2C1qToSbiBR6MXi6KWxcTFu5v8duEwYV5Ww3Tlbzdxcu1tKhYmsgxobFwjXO7vfdRyTZQWCQFTI+Ksu2V2Fdj8niM8y33VFv/SW8Jx/iVT5bn8Ka/k9fmqT3nuUyCMMZiASnAoElv9A++z4+TpwDuH2Zuu/yvjIWbgIN/yH/bRohFVRQAMPI7CWPH0g5QaA9G8PMArLqFxMDzQCfGWdlPQTF5zde+lsQaYtE9OKQuqWG6BU94O8mAMi89/l+CxQcfZqfPBFJYMPtv0GMZ8abttrylU+E6X0sZl4qQ==', sent_timestamp_milliseconds='1731580614915', approximate_receive_count='1')]"
      ]
     },
     "execution_count": 7,
     "metadata": {},
     "output_type": "execute_result"
    }
   ],
   "source": [
    "# Receive Message\n",
    "sqs_message_dtos = sqs_service.receive_message(queue_url)\n",
    "sqs_message_dtos"
   ]
  },
  {
   "cell_type": "code",
   "execution_count": 8,
   "metadata": {},
   "outputs": [
    {
     "name": "stdout",
     "output_type": "stream",
     "text": [
      "SqsMessageDto(message_id='15d45c34-d74a-4717-b01c-0a28616c149b', body='{\"username\": \"pujan\", \"email\": \"some@email.com\"}', body_md5='f65a5ba8e35eeab89ac5e602b3828fc5', receipt_handle='AQEBzwgaQr7n+LaJ1TH3zU4eVpYHBEpIQ3QcjhvJFaM/rWVDx8n7PyJ1/LdAIvJZlv72/9YysblwtMGgJCoE10wPDl0vLtzMmMnksFH5Q4kQWE5bBtvOF2C1qToSbiBR6MXi6KWxcTFu5v8duEwYV5Ww3Tlbzdxcu1tKhYmsgxobFwjXO7vfdRyTZQWCQFTI+Ksu2V2Fdj8niM8y33VFv/SW8Jx/iVT5bn8Ka/k9fmqT3nuUyCMMZiASnAoElv9A++z4+TpwDuH2Zuu/yvjIWbgIN/yH/bRohFVRQAMPI7CWPH0g5QaA9G8PMArLqFxMDzQCfGWdlPQTF5zde+lsQaYtE9OKQuqWG6BU94O8mAMi89/l+CxQcfZqfPBFJYMPtv0GMZ8abttrylU+E6X0sZl4qQ==', sent_timestamp_milliseconds='1731580614915', approximate_receive_count='1')\n",
      "time  2024-11-14 21:06:54.915000\n"
     ]
    }
   ],
   "source": [
    "# message \n",
    "from helpers.date_helper import DateHelper\n",
    "\n",
    "date_helper = DateHelper()\n",
    "for sqs_message_dto in sqs_message_dtos:\n",
    "    print(sqs_message_dto)\n",
    "    print(\"time \", date_helper.from_unix_milli_seconds_to_date(sqs_message_dto.sent_timestamp_milliseconds))"
   ]
  },
  {
   "cell_type": "code",
   "execution_count": 9,
   "metadata": {},
   "outputs": [
    {
     "name": "stdout",
     "output_type": "stream",
     "text": [
      "Message  {\"username\": \"pujan\", \"email\": \"some@email.com\"}\n",
      "Receipt handle  AQEBzwgaQr7n+LaJ1TH3zU4eVpYHBEpIQ3QcjhvJFaM/rWVDx8n7PyJ1/LdAIvJZlv72/9YysblwtMGgJCoE10wPDl0vLtzMmMnksFH5Q4kQWE5bBtvOF2C1qToSbiBR6MXi6KWxcTFu5v8duEwYV5Ww3Tlbzdxcu1tKhYmsgxobFwjXO7vfdRyTZQWCQFTI+Ksu2V2Fdj8niM8y33VFv/SW8Jx/iVT5bn8Ka/k9fmqT3nuUyCMMZiASnAoElv9A++z4+TpwDuH2Zuu/yvjIWbgIN/yH/bRohFVRQAMPI7CWPH0g5QaA9G8PMArLqFxMDzQCfGWdlPQTF5zde+lsQaYtE9OKQuqWG6BU94O8mAMi89/l+CxQcfZqfPBFJYMPtv0GMZ8abttrylU+E6X0sZl4qQ==\n",
      "2024-11-14 21:06:55,009 delete_message, queue_url: https://sqs.ap-southeast-2.amazonaws.com/911167932496/pujan-queue-3, receipt_handle: AQEBzwgaQr7n+LaJ1TH3zU4eVpYHBEpIQ3QcjhvJFaM/rWVDx8n7PyJ1/LdAIvJZlv72/9YysblwtMGgJCoE10wPDl0vLtzMmMnksFH5Q4kQWE5bBtvOF2C1qToSbiBR6MXi6KWxcTFu5v8duEwYV5Ww3Tlbzdxcu1tKhYmsgxobFwjXO7vfdRyTZQWCQFTI+Ksu2V2Fdj8niM8y33VFv/SW8Jx/iVT5bn8Ka/k9fmqT3nuUyCMMZiASnAoElv9A++z4+TpwDuH2Zuu/yvjIWbgIN/yH/bRohFVRQAMPI7CWPH0g5QaA9G8PMArLqFxMDzQCfGWdlPQTF5zde+lsQaYtE9OKQuqWG6BU94O8mAMi89/l+CxQcfZqfPBFJYMPtv0GMZ8abttrylU+E6X0sZl4qQ==\n"
     ]
    }
   ],
   "source": [
    "# delete message\n",
    "for sqs_message_dto in sqs_message_dtos:\n",
    "    print(\"Message \", sqs_message_dto.body)\n",
    "    print(\"Receipt handle \", sqs_message_dto.receipt_handle)\n",
    "    sqs_service.delete_message(queue_url, sqs_message_dto.receipt_handle)"
   ]
  },
  {
   "cell_type": "code",
   "execution_count": 10,
   "metadata": {},
   "outputs": [
    {
     "name": "stdout",
     "output_type": "stream",
     "text": [
      "2024-11-14 21:06:55,082 receive_message queue_url: https://sqs.ap-southeast-2.amazonaws.com/911167932496/pujan-queue-3\n"
     ]
    },
    {
     "data": {
      "text/plain": [
       "[]"
      ]
     },
     "execution_count": 10,
     "metadata": {},
     "output_type": "execute_result"
    }
   ],
   "source": [
    "# Receive message again, this time it should not show any message, as we deleted in above operation\n",
    "sqs_message_dtos = sqs_service.receive_message(queue_url)\n",
    "sqs_message_dtos"
   ]
  },
  {
   "cell_type": "code",
   "execution_count": 11,
   "metadata": {},
   "outputs": [
    {
     "name": "stdout",
     "output_type": "stream",
     "text": [
      "2024-11-14 21:06:55,200 delete_queue queue_url:https://sqs.ap-southeast-2.amazonaws.com/911167932496/pujan-queue-3\n"
     ]
    }
   ],
   "source": [
    "sqs_service.delete_queue(queue_url)"
   ]
  },
  {
   "cell_type": "code",
   "execution_count": 12,
   "metadata": {},
   "outputs": [
    {
     "data": {
      "text/plain": [
       "[]"
      ]
     },
     "execution_count": 12,
     "metadata": {},
     "output_type": "execute_result"
    }
   ],
   "source": [
    "# list queues\n",
    "sqs_service.list_queues()"
   ]
  }
 ],
 "metadata": {
  "kernelspec": {
   "display_name": ".venv",
   "language": "python",
   "name": "python3"
  },
  "language_info": {
   "codemirror_mode": {
    "name": "ipython",
    "version": 3
   },
   "file_extension": ".py",
   "mimetype": "text/x-python",
   "name": "python",
   "nbconvert_exporter": "python",
   "pygments_lexer": "ipython3",
   "version": "3.10.8"
  }
 },
 "nbformat": 4,
 "nbformat_minor": 2
}
