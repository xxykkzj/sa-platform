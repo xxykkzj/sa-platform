{
 "cells": [
  {
   "cell_type": "code",
   "execution_count": null,
   "metadata": {},
   "outputs": [
    {
     "name": "stdout",
     "output_type": "stream",
     "text": [
      "Table council_scraping created successfully,\n"
     ]
    }
   ],
   "source": [
    "from helpers.date_helper import DateHelper\n",
    "from helpers.id_helper import IdHelper\n",
    "from repositories.council_scraping_dynamodb import CouncilScrapingDynamoDb\n",
    "from scraping.dtos.council_scraping_dto import CouncilScrapingDto\n",
    "\n",
    "# the object instantiation will create a new dynamodb table \"council_scraping\" if not exists\n",
    "council_scraping_dynamodb = CouncilScrapingDynamoDb()\n",
    "\n",
    "org_id = 5\n",
    "address = \"pujan address\"\n",
    "# After this operation, check the aws console to see the dynamo db table"
   ]
  },
  {
   "cell_type": "code",
   "execution_count": 2,
   "metadata": {},
   "outputs": [
    {
     "name": "stdout",
     "output_type": "stream",
     "text": [
      "{'ResponseMetadata': {'RequestId': 'U277L7VVLHKHLSCJE9O10MHRU3VV4KQNSO5AEMVJF66Q9ASUAAJG', 'HTTPStatusCode': 200, 'HTTPHeaders': {'server': 'Server', 'date': 'Fri, 15 Nov 2024 10:22:26 GMT', 'content-type': 'application/x-amz-json-1.0', 'content-length': '2', 'connection': 'keep-alive', 'x-amzn-requestid': 'U277L7VVLHKHLSCJE9O10MHRU3VV4KQNSO5AEMVJF66Q9ASUAAJG', 'x-amz-crc32': '2745614147'}, 'RetryAttempts': 0}}\n"
     ]
    }
   ],
   "source": [
    "# add new item\n",
    "council_dto = CouncilScrapingDto(\n",
    "    org_id=org_id,\n",
    "    address=address,\n",
    "    council=\"pujan council\",\n",
    "    status_code=200,\n",
    "    message=\"\",\n",
    "    request_id=IdHelper().new_id(),\n",
    "    created_date=DateHelper().get_utc_now_str())\n",
    "\n",
    "resp = council_scraping_dynamodb.put(council_dto)\n",
    "print(resp)"
   ]
  },
  {
   "cell_type": "code",
   "execution_count": 3,
   "metadata": {},
   "outputs": [
    {
     "data": {
      "text/plain": [
       "{'Item': {'org_id': Decimal('5'),\n",
       "  'status_code': Decimal('200'),\n",
       "  'request_id': '2bdd6916-8a2e-438a-a176-f11274bfd9ab',\n",
       "  'created_date': '2024-11-15 10:22:13.242904+00:00',\n",
       "  'council': 'pujan council',\n",
       "  'message': '',\n",
       "  'address': 'pujan address'},\n",
       " 'ResponseMetadata': {'RequestId': '9PP7HG8JCNGSRQHDD2T73K8JTNVV4KQNSO5AEMVJF66Q9ASUAAJG',\n",
       "  'HTTPStatusCode': 200,\n",
       "  'HTTPHeaders': {'server': 'Server',\n",
       "   'date': 'Fri, 15 Nov 2024 10:22:45 GMT',\n",
       "   'content-type': 'application/x-amz-json-1.0',\n",
       "   'content-length': '252',\n",
       "   'connection': 'keep-alive',\n",
       "   'x-amzn-requestid': '9PP7HG8JCNGSRQHDD2T73K8JTNVV4KQNSO5AEMVJF66Q9ASUAAJG',\n",
       "   'x-amz-crc32': '345259735'},\n",
       "  'RetryAttempts': 0}}"
      ]
     },
     "execution_count": 3,
     "metadata": {},
     "output_type": "execute_result"
    }
   ],
   "source": [
    "# Fetch the item to verify that the item has been created\n",
    "council_scraping_dynamodb.get(org_id, address)\n",
    "# The 'Item' property is the data from the database"
   ]
  },
  {
   "cell_type": "code",
   "execution_count": 4,
   "metadata": {},
   "outputs": [
    {
     "data": {
      "text/plain": [
       "{'ResponseMetadata': {'RequestId': 'EU2CNDK751VFUOLG6CG6IAGGD7VV4KQNSO5AEMVJF66Q9ASUAAJG',\n",
       "  'HTTPStatusCode': 200,\n",
       "  'HTTPHeaders': {'server': 'Server',\n",
       "   'date': 'Fri, 15 Nov 2024 10:23:00 GMT',\n",
       "   'content-type': 'application/x-amz-json-1.0',\n",
       "   'content-length': '2',\n",
       "   'connection': 'keep-alive',\n",
       "   'x-amzn-requestid': 'EU2CNDK751VFUOLG6CG6IAGGD7VV4KQNSO5AEMVJF66Q9ASUAAJG',\n",
       "   'x-amz-crc32': '2745614147'},\n",
       "  'RetryAttempts': 0}}"
      ]
     },
     "execution_count": 4,
     "metadata": {},
     "output_type": "execute_result"
    }
   ],
   "source": [
    "# Update the item\n",
    "# The same put method is used to update the item\n",
    "# If the key matches, then it updats the record or creates a new record\n",
    "# kind of upsert method\n",
    "# Lets try update\n",
    "council_dto.council = \"pujan council 2\"\n",
    "council_scraping_dynamodb.put(council_dto)"
   ]
  },
  {
   "cell_type": "code",
   "execution_count": 5,
   "metadata": {},
   "outputs": [
    {
     "data": {
      "text/plain": [
       "{'Item': {'org_id': Decimal('5'),\n",
       "  'status_code': Decimal('200'),\n",
       "  'request_id': '2bdd6916-8a2e-438a-a176-f11274bfd9ab',\n",
       "  'created_date': '2024-11-15 10:22:13.242904+00:00',\n",
       "  'council': 'pujan council 2',\n",
       "  'message': '',\n",
       "  'address': 'pujan address'},\n",
       " 'ResponseMetadata': {'RequestId': '1VJQ31528CN65JBS49VR53M95FVV4KQNSO5AEMVJF66Q9ASUAAJG',\n",
       "  'HTTPStatusCode': 200,\n",
       "  'HTTPHeaders': {'server': 'Server',\n",
       "   'date': 'Fri, 15 Nov 2024 10:23:16 GMT',\n",
       "   'content-type': 'application/x-amz-json-1.0',\n",
       "   'content-length': '254',\n",
       "   'connection': 'keep-alive',\n",
       "   'x-amzn-requestid': '1VJQ31528CN65JBS49VR53M95FVV4KQNSO5AEMVJF66Q9ASUAAJG',\n",
       "   'x-amz-crc32': '2294944550'},\n",
       "  'RetryAttempts': 0}}"
      ]
     },
     "execution_count": 5,
     "metadata": {},
     "output_type": "execute_result"
    }
   ],
   "source": [
    "# Fetch the item to verify that the item has been updated\n",
    "council_scraping_dynamodb.get(org_id, address)\n",
    "\n",
    "# The council name has been updated"
   ]
  },
  {
   "cell_type": "code",
   "execution_count": 6,
   "metadata": {},
   "outputs": [
    {
     "data": {
      "text/plain": [
       "{'ResponseMetadata': {'RequestId': '7HOTB73KLOTOK5V9U8PHIQJJC7VV4KQNSO5AEMVJF66Q9ASUAAJG',\n",
       "  'HTTPStatusCode': 200,\n",
       "  'HTTPHeaders': {'server': 'Server',\n",
       "   'date': 'Fri, 15 Nov 2024 10:23:19 GMT',\n",
       "   'content-type': 'application/x-amz-json-1.0',\n",
       "   'content-length': '2',\n",
       "   'connection': 'keep-alive',\n",
       "   'x-amzn-requestid': '7HOTB73KLOTOK5V9U8PHIQJJC7VV4KQNSO5AEMVJF66Q9ASUAAJG',\n",
       "   'x-amz-crc32': '2745614147'},\n",
       "  'RetryAttempts': 0}}"
      ]
     },
     "execution_count": 6,
     "metadata": {},
     "output_type": "execute_result"
    }
   ],
   "source": [
    "# Delete the item\n",
    "council_scraping_dynamodb.delete(org_id, address)"
   ]
  },
  {
   "cell_type": "code",
   "execution_count": 7,
   "metadata": {},
   "outputs": [
    {
     "data": {
      "text/plain": [
       "{'ResponseMetadata': {'RequestId': '0D9V7OB93I64LR55KHNRMBFENNVV4KQNSO5AEMVJF66Q9ASUAAJG',\n",
       "  'HTTPStatusCode': 200,\n",
       "  'HTTPHeaders': {'server': 'Server',\n",
       "   'date': 'Fri, 15 Nov 2024 10:23:29 GMT',\n",
       "   'content-type': 'application/x-amz-json-1.0',\n",
       "   'content-length': '2',\n",
       "   'connection': 'keep-alive',\n",
       "   'x-amzn-requestid': '0D9V7OB93I64LR55KHNRMBFENNVV4KQNSO5AEMVJF66Q9ASUAAJG',\n",
       "   'x-amz-crc32': '2745614147'},\n",
       "  'RetryAttempts': 0}}"
      ]
     },
     "execution_count": 7,
     "metadata": {},
     "output_type": "execute_result"
    }
   ],
   "source": [
    "# Fetch the item to verify that the item has been deleted\n",
    "council_scraping_dynamodb.get(org_id, address)\n",
    "\n",
    "# In the following response, the 'Item' property is absent, which means there is not record"
   ]
  },
  {
   "cell_type": "code",
   "execution_count": 8,
   "metadata": {},
   "outputs": [
    {
     "data": {
      "text/plain": [
       "{'TableDescription': {'TableName': 'council_scraping',\n",
       "  'TableStatus': 'DELETING',\n",
       "  'ProvisionedThroughput': {'NumberOfDecreasesToday': 0,\n",
       "   'ReadCapacityUnits': 1,\n",
       "   'WriteCapacityUnits': 1},\n",
       "  'TableSizeBytes': 0,\n",
       "  'ItemCount': 0,\n",
       "  'TableArn': 'arn:aws:dynamodb:ap-southeast-2:911167932496:table/council_scraping',\n",
       "  'TableId': 'ca9babec-b742-4600-b290-eba4621c06f3',\n",
       "  'DeletionProtectionEnabled': False},\n",
       " 'ResponseMetadata': {'RequestId': 'B4GHD9EADMHADB7F3AKTUI293BVV4KQNSO5AEMVJF66Q9ASUAAJG',\n",
       "  'HTTPStatusCode': 200,\n",
       "  'HTTPHeaders': {'server': 'Server',\n",
       "   'date': 'Fri, 15 Nov 2024 10:23:33 GMT',\n",
       "   'content-type': 'application/x-amz-json-1.0',\n",
       "   'content-length': '373',\n",
       "   'connection': 'keep-alive',\n",
       "   'x-amzn-requestid': 'B4GHD9EADMHADB7F3AKTUI293BVV4KQNSO5AEMVJF66Q9ASUAAJG',\n",
       "   'x-amz-crc32': '350375538'},\n",
       "  'RetryAttempts': 0}}"
      ]
     },
     "execution_count": 8,
     "metadata": {},
     "output_type": "execute_result"
    }
   ],
   "source": [
    "# Delete the table after the operations are completed\n",
    "# You don't want to keep the AWS resource running. This will cause you cost\n",
    "council_scraping_dynamodb.delete_table()"
   ]
  }
 ],
 "metadata": {
  "kernelspec": {
   "display_name": ".venv",
   "language": "python",
   "name": "python3"
  },
  "language_info": {
   "codemirror_mode": {
    "name": "ipython",
    "version": 3
   },
   "file_extension": ".py",
   "mimetype": "text/x-python",
   "name": "python",
   "nbconvert_exporter": "python",
   "pygments_lexer": "ipython3",
   "version": "3.10.8"
  }
 },
 "nbformat": 4,
 "nbformat_minor": 2
}
