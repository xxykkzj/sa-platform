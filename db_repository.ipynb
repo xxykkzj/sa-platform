{
 "cells": [
  {
   "cell_type": "code",
   "execution_count": null,
   "metadata": {},
   "outputs": [],
   "source": [
    "# add job run\n",
    "from dotenv import load_dotenv\n",
    "from helpers.date_helper import DateHelper\n",
    "from helpers.id_helper import IdHelper\n",
    "from repositories.job_run_repository import JobRunRepository\n",
    "from repositories.models.job_run_model import JobRunModel\n",
    "from enums.job_run_status import JobRunStatus\n",
    "\n",
    "load_dotenv()\n",
    "date_helper = DateHelper()\n",
    "id_helper = IdHelper()\n",
    "\n",
    "job_run_repo = JobRunRepository()\n",
    "job_run = {\n",
    "    \"created_at_unix\" : date_helper.get_unix_timestamp(),\n",
    "    \"job_type_id\": 1,\n",
    "    \"status_id\": 1,\n",
    "    \"request_id\": id_helper.new_id()\n",
    "}\n",
    "\n",
    "job_run_model = JobRunModel(**job_run)"
   ]
  },
  {
   "cell_type": "code",
   "execution_count": null,
   "metadata": {},
   "outputs": [],
   "source": [
    "from enums.job_type import JobType\n",
    "\n",
    "\n",
    "new_job = JobRunRepository().add_default(JobType.URL_STATUS_CHECKER)\n",
    "new_job"
   ]
  },
  {
   "cell_type": "code",
   "execution_count": null,
   "metadata": {},
   "outputs": [],
   "source": [
    "new_job.__dict__"
   ]
  },
  {
   "cell_type": "code",
   "execution_count": null,
   "metadata": {},
   "outputs": [],
   "source": [
    "print(job_run_model.id)"
   ]
  },
  {
   "cell_type": "code",
   "execution_count": null,
   "metadata": {},
   "outputs": [],
   "source": [
    "job_run_model = JobRunModel(**job_run)\n",
    "new_id = job_run_repo.add(job_run_model)\n",
    "\n",
    "new_id"
   ]
  },
  {
   "cell_type": "code",
   "execution_count": null,
   "metadata": {},
   "outputs": [],
   "source": [
    "job_run_model.id"
   ]
  },
  {
   "cell_type": "code",
   "execution_count": null,
   "metadata": {},
   "outputs": [],
   "source": [
    "print(new_id)"
   ]
  },
  {
   "cell_type": "code",
   "execution_count": null,
   "metadata": {},
   "outputs": [],
   "source": [
    "from enums.job_run_status import JobRunStatus\n",
    "\n",
    "job_run_repo.update_status(new_id, JobRunStatus.SUCCESS)"
   ]
  },
  {
   "cell_type": "code",
   "execution_count": null,
   "metadata": {},
   "outputs": [],
   "source": [
    "job_run_repo.delete(4)"
   ]
  },
  {
   "cell_type": "code",
   "execution_count": null,
   "metadata": {},
   "outputs": [],
   "source": [
    "\n",
    "results = job_run_repo.get_by_status(JobRunStatus.SUCCESS)\n",
    "for r in results:\n",
    "    print(r.id)"
   ]
  },
  {
   "cell_type": "code",
   "execution_count": null,
   "metadata": {},
   "outputs": [],
   "source": [
    "for r in results:\n",
    "    print(r.id)"
   ]
  },
  {
   "cell_type": "code",
   "execution_count": null,
   "metadata": {},
   "outputs": [],
   "source": [
    "from repositories.models.url_status_model import UrlStatusModel\n",
    "from repositories.url_status_repository import UrlStatusRepository\n",
    "\n",
    "\n",
    "url_model = {\n",
    "    \"url\": \"http://url\",\n",
    "    \"job_run_id\": 2,\n",
    "    \"created_at_unix\": date_helper.get_unix_timestamp()\n",
    "}\n",
    "\n",
    "url_status_repo = UrlStatusRepository()\n",
    "url_status_repo.add(UrlStatusModel(**url_model))"
   ]
  },
  {
   "cell_type": "code",
   "execution_count": null,
   "metadata": {},
   "outputs": [],
   "source": [
    "from repositories.scraping_repository import ScrapingRepository\n",
    "\n",
    "\n",
    "scraping_repository = ScrapingRepository()"
   ]
  },
  {
   "cell_type": "code",
   "execution_count": null,
   "metadata": {},
   "outputs": [
    {
     "name": "stdout",
     "output_type": "stream",
     "text": [
      "2024-11-20 17:37:41,339 INFO sqlalchemy.engine.Engine select pg_catalog.version()\n",
      "2024-11-20 17:37:41,340 INFO sqlalchemy.engine.Engine [raw sql] {}\n",
      "2024-11-20 17:37:41,347 INFO sqlalchemy.engine.Engine select current_schema()\n",
      "2024-11-20 17:37:41,347 INFO sqlalchemy.engine.Engine [raw sql] {}\n",
      "2024-11-20 17:37:41,352 INFO sqlalchemy.engine.Engine show standard_conforming_strings\n",
      "2024-11-20 17:37:41,353 INFO sqlalchemy.engine.Engine [raw sql] {}\n",
      "2024-11-20 17:37:41,372 INFO sqlalchemy.engine.Engine BEGIN (implicit)\n",
      "2024-11-20 17:37:41,383 INFO sqlalchemy.engine.Engine SELECT pg_catalog.pg_class.relname \n",
      "FROM pg_catalog.pg_class JOIN pg_catalog.pg_namespace ON pg_catalog.pg_namespace.oid = pg_catalog.pg_class.relnamespace \n",
      "WHERE pg_catalog.pg_class.relname = %(table_name)s::VARCHAR AND pg_catalog.pg_class.relkind = ANY (ARRAY[%(param_1)s::VARCHAR, %(param_2)s::VARCHAR, %(param_3)s::VARCHAR, %(param_4)s::VARCHAR, %(param_5)s::VARCHAR]) AND pg_catalog.pg_table_is_visible(pg_catalog.pg_class.oid) AND pg_catalog.pg_namespace.nspname != %(nspname_1)s::VARCHAR\n",
      "2024-11-20 17:37:41,384 INFO sqlalchemy.engine.Engine [generated in 0.00084s] {'table_name': 'url_statuses', 'param_1': 'r', 'param_2': 'p', 'param_3': 'f', 'param_4': 'v', 'param_5': 'm', 'nspname_1': 'pg_catalog'}\n",
      "2024-11-20 17:37:41,390 INFO sqlalchemy.engine.Engine COMMIT\n",
      "2024-11-20 17:37:41,397 INFO sqlalchemy.engine.Engine BEGIN (implicit)\n",
      "2024-11-20 17:37:41,400 INFO sqlalchemy.engine.Engine SELECT url_statuses.job_run_id, url_statuses.url, url_statuses.text_hash, url_statuses.id, url_statuses.created_at_unix, url_statuses.created_by, url_statuses.updated_at_unix, url_statuses.updated_by, url_statuses.is_deleted, url_statuses.deleted_at_unix, url_statuses.deleted_by \n",
      "FROM url_statuses \n",
      "WHERE url_statuses.url = %(url_1)s::VARCHAR ORDER BY url_statuses.id DESC\n",
      "2024-11-20 17:37:41,400 INFO sqlalchemy.engine.Engine [generated in 0.00059s] {'url_1': 'https://sacommunity.org/node/112335652'}\n",
      "2024-11-20 17:37:41,405 INFO sqlalchemy.engine.Engine ROLLBACK\n",
      "None\n"
     ]
    }
   ],
   "source": [
    "from repositories.url_status_repository import UrlStatusRepository\n",
    "resp = UrlStatusRepository().get_latest_by_url(\"https://sacommunity.org/node/1123\")\n",
    "print(resp)"
   ]
  },
  {
   "cell_type": "code",
   "execution_count": 5,
   "metadata": {},
   "outputs": [
    {
     "ename": "AttributeError",
     "evalue": "'NoneType' object has no attribute '__dict__'",
     "output_type": "error",
     "traceback": [
      "\u001b[0;31m---------------------------------------------------------------------------\u001b[0m",
      "\u001b[0;31mAttributeError\u001b[0m                            Traceback (most recent call last)",
      "Cell \u001b[0;32mIn[5], line 1\u001b[0m\n\u001b[0;32m----> 1\u001b[0m \u001b[43mresp\u001b[49m\u001b[38;5;241;43m.\u001b[39;49m\u001b[38;5;18;43m__dict__\u001b[39;49m\n",
      "\u001b[0;31mAttributeError\u001b[0m: 'NoneType' object has no attribute '__dict__'"
     ]
    }
   ],
   "source": [
    "resp.__dict__"
   ]
  }
 ],
 "metadata": {
  "kernelspec": {
   "display_name": ".venv",
   "language": "python",
   "name": "python3"
  },
  "language_info": {
   "codemirror_mode": {
    "name": "ipython",
    "version": 3
   },
   "file_extension": ".py",
   "mimetype": "text/x-python",
   "name": "python",
   "nbconvert_exporter": "python",
   "pygments_lexer": "ipython3",
   "version": "3.10.8"
  }
 },
 "nbformat": 4,
 "nbformat_minor": 2
}
